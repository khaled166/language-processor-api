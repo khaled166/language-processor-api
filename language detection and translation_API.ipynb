{
 "cells": [
  {
   "cell_type": "code",
   "execution_count": 1,
   "metadata": {},
   "outputs": [
    {
     "name": "stderr",
     "output_type": "stream",
     "text": [
      "C:\\Users\\145568\\AppData\\Roaming\\Python\\Python311\\site-packages\\pandas\\core\\arrays\\masked.py:60: UserWarning: Pandas requires version '1.3.6' or newer of 'bottleneck' (version '1.3.5' currently installed).\n",
      "  from pandas.core import (\n",
      "C:\\Users\\145568\\AppData\\Roaming\\Python\\Python311\\site-packages\\dask\\dataframe\\_pyarrow_compat.py:23: UserWarning: You are using pyarrow version 12.0.0 which is known to be insecure. See https://www.cve.org/CVERecord?id=CVE-2023-47248 for further details. Please upgrade to pyarrow>=14.0.1 or install pyarrow-hotfix to patch your current version.\n",
      "  warnings.warn(\n"
     ]
    }
   ],
   "source": [
    "import pandas as pd\n",
    "import numpy as np\n",
    "import fasttext\n",
    "from transformers import pipeline\n",
    "import swifter\n",
    "from tqdm import tqdm\n",
    "from pandarallel import pandarallel\n",
    "from transformers import MarianMTModel, MarianTokenizer\n",
    "import time\n",
    "import warnings\n",
    "warnings.filterwarnings('ignore')"
   ]
  },
  {
   "cell_type": "code",
   "execution_count": 2,
   "metadata": {},
   "outputs": [
    {
     "name": "stdout",
     "output_type": "stream",
     "text": [
      "INFO: Pandarallel will run on 10 workers.\n",
      "INFO: Pandarallel will use standard multiprocessing data transfer (pipe) to transfer data between the main process and workers.\n",
      "\n",
      "WARNING: You are on Windows. If you detect any issue with pandarallel, be sure you checked out the Troubleshooting page:\n",
      "https://nalepae.github.io/pandarallel/troubleshooting/\n"
     ]
    }
   ],
   "source": [
    "pandarallel.initialize(progress_bar=True)"
   ]
  },
  {
   "cell_type": "markdown",
   "metadata": {},
   "source": [
    "# Read data from csv file"
   ]
  },
  {
   "cell_type": "code",
   "execution_count": 3,
   "metadata": {},
   "outputs": [],
   "source": [
    "# read data from csv file\n",
    "df = pd.read_csv(r\"..\\data\\row_data\\News.csv\" ,usecols=['Supplier_Name',\n",
    "'News_Title','News_Link','News_Date','Description','Initial_Classification','Machine_Learning',\n",
    "'Confidence','Trusted_Language'])"
   ]
  },
  {
   "cell_type": "markdown",
   "metadata": {},
   "source": [
    "# Data Pre-processing"
   ]
  },
  {
   "cell_type": "code",
   "execution_count": 4,
   "metadata": {},
   "outputs": [
    {
     "data": {
      "text/plain": [
       "714029"
      ]
     },
     "execution_count": 4,
     "metadata": {},
     "output_type": "execute_result"
    }
   ],
   "source": [
    "# check lenght of dataframe\n",
    "len(df.index)"
   ]
  },
  {
   "cell_type": "code",
   "execution_count": 5,
   "metadata": {},
   "outputs": [
    {
     "name": "stdout",
     "output_type": "stream",
     "text": [
      "<class 'pandas.core.frame.DataFrame'>\n",
      "RangeIndex: 714029 entries, 0 to 714028\n",
      "Data columns (total 9 columns):\n",
      " #   Column                  Non-Null Count   Dtype  \n",
      "---  ------                  --------------   -----  \n",
      " 0   Supplier_Name           714029 non-null  object \n",
      " 1   News_Title              707263 non-null  object \n",
      " 2   News_Link               702215 non-null  object \n",
      " 3   News_Date               610048 non-null  object \n",
      " 4   Description             17320 non-null   object \n",
      " 5   Initial_Classification  714029 non-null  object \n",
      " 6   Machine_Learning        714029 non-null  object \n",
      " 7   Confidence              714029 non-null  float64\n",
      " 8   Trusted_Language        371213 non-null  object \n",
      "dtypes: float64(1), object(8)\n",
      "memory usage: 49.0+ MB\n"
     ]
    }
   ],
   "source": [
    "# fast information check for each column in dataset\n",
    "df.info()"
   ]
  },
  {
   "cell_type": "code",
   "execution_count": 6,
   "metadata": {},
   "outputs": [
    {
     "data": {
      "text/plain": [
       "Index(['Supplier_Name', 'News_Title', 'News_Link', 'News_Date', 'Description',\n",
       "       'Initial_Classification', 'Machine_Learning', 'Confidence',\n",
       "       'Trusted_Language'],\n",
       "      dtype='object')"
      ]
     },
     "execution_count": 6,
     "metadata": {},
     "output_type": "execute_result"
    }
   ],
   "source": [
    "# check list of columns in dataframe \n",
    "df.columns"
   ]
  },
  {
   "cell_type": "code",
   "execution_count": 7,
   "metadata": {},
   "outputs": [
    {
     "data": {
      "text/html": [
       "<div>\n",
       "<style scoped>\n",
       "    .dataframe tbody tr th:only-of-type {\n",
       "        vertical-align: middle;\n",
       "    }\n",
       "\n",
       "    .dataframe tbody tr th {\n",
       "        vertical-align: top;\n",
       "    }\n",
       "\n",
       "    .dataframe thead th {\n",
       "        text-align: right;\n",
       "    }\n",
       "</style>\n",
       "<table border=\"1\" class=\"dataframe\">\n",
       "  <thead>\n",
       "    <tr style=\"text-align: right;\">\n",
       "      <th></th>\n",
       "      <th>Supplier_Name</th>\n",
       "      <th>News_Title</th>\n",
       "      <th>News_Link</th>\n",
       "      <th>News_Date</th>\n",
       "      <th>Description</th>\n",
       "      <th>Initial_Classification</th>\n",
       "      <th>Machine_Learning</th>\n",
       "      <th>Confidence</th>\n",
       "      <th>Trusted_Language</th>\n",
       "    </tr>\n",
       "  </thead>\n",
       "  <tbody>\n",
       "    <tr>\n",
       "      <th>0</th>\n",
       "      <td>European-Mediterranean Seismological Centre</td>\n",
       "      <td>CENTRAL TURKEY</td>\n",
       "      <td>https://www.emsc-csem.org/Earthquake/earthquak...</td>\n",
       "      <td>2023-01-02   16:47:21.4</td>\n",
       "      <td>NaN</td>\n",
       "      <td>No Classification Found</td>\n",
       "      <td>can't predict | insufficient description</td>\n",
       "      <td>100.0</td>\n",
       "      <td>NaN</td>\n",
       "    </tr>\n",
       "    <tr>\n",
       "      <th>1</th>\n",
       "      <td>European-Mediterranean Seismological Centre</td>\n",
       "      <td>CENTRAL TURKEY</td>\n",
       "      <td>https://www.emsc-csem.org/Earthquake/earthquak...</td>\n",
       "      <td>2023-01-02   01:51:45.2</td>\n",
       "      <td>NaN</td>\n",
       "      <td>No Classification Found</td>\n",
       "      <td>can't predict | insufficient description</td>\n",
       "      <td>100.0</td>\n",
       "      <td>NaN</td>\n",
       "    </tr>\n",
       "    <tr>\n",
       "      <th>2</th>\n",
       "      <td>European-Mediterranean Seismological Centre</td>\n",
       "      <td>CENTRAL TURKEY</td>\n",
       "      <td>https://www.emsc-csem.org/Earthquake/earthquak...</td>\n",
       "      <td>2023-01-03   15:59:56.9</td>\n",
       "      <td>NaN</td>\n",
       "      <td>No Classification Found</td>\n",
       "      <td>can't predict | insufficient description</td>\n",
       "      <td>100.0</td>\n",
       "      <td>NaN</td>\n",
       "    </tr>\n",
       "  </tbody>\n",
       "</table>\n",
       "</div>"
      ],
      "text/plain": [
       "                                 Supplier_Name      News_Title  \\\n",
       "0  European-Mediterranean Seismological Centre  CENTRAL TURKEY   \n",
       "1  European-Mediterranean Seismological Centre  CENTRAL TURKEY   \n",
       "2  European-Mediterranean Seismological Centre  CENTRAL TURKEY   \n",
       "\n",
       "                                           News_Link                News_Date  \\\n",
       "0  https://www.emsc-csem.org/Earthquake/earthquak...  2023-01-02   16:47:21.4   \n",
       "1  https://www.emsc-csem.org/Earthquake/earthquak...  2023-01-02   01:51:45.2   \n",
       "2  https://www.emsc-csem.org/Earthquake/earthquak...  2023-01-03   15:59:56.9   \n",
       "\n",
       "  Description   Initial_Classification  \\\n",
       "0         NaN  No Classification Found   \n",
       "1         NaN  No Classification Found   \n",
       "2         NaN  No Classification Found   \n",
       "\n",
       "                           Machine_Learning  Confidence Trusted_Language  \n",
       "0  can't predict | insufficient description       100.0              NaN  \n",
       "1  can't predict | insufficient description       100.0              NaN  \n",
       "2  can't predict | insufficient description       100.0              NaN  "
      ]
     },
     "execution_count": 7,
     "metadata": {},
     "output_type": "execute_result"
    }
   ],
   "source": [
    "# print first 3 rows in dataframe\n",
    "df.head(3)"
   ]
  },
  {
   "cell_type": "code",
   "execution_count": 8,
   "metadata": {},
   "outputs": [],
   "source": [
    "# filter row to ingnore the below 3 suppliers\n",
    "df = df[~df['Supplier_Name'].isin(['Jenoptik', 'Gabrian International (H.K.) Ltd', 'European-Mediterranean Seismological Centre'])]"
   ]
  },
  {
   "cell_type": "code",
   "execution_count": 9,
   "metadata": {},
   "outputs": [
    {
     "name": "stdout",
     "output_type": "stream",
     "text": [
      "True\n",
      "True\n",
      "True\n"
     ]
    }
   ],
   "source": [
    "# confirm that suppliers is filtered out.\n",
    "print(df[df[\"Supplier_Name\"]=='Jenoptik'].empty)\n",
    "print(df[df[\"Supplier_Name\"]=='Gabrian International (H.K.) Ltd'].empty)\n",
    "print(df[df[\"Supplier_Name\"]=='European-Mediterranean Seismological Centre'].empty)"
   ]
  },
  {
   "cell_type": "code",
   "execution_count": 10,
   "metadata": {},
   "outputs": [
    {
     "data": {
      "text/plain": [
       "6765"
      ]
     },
     "execution_count": 10,
     "metadata": {},
     "output_type": "execute_result"
    }
   ],
   "source": [
    "# check if there any null values in news titles column\n",
    "df['News_Title'].isnull().sum()"
   ]
  },
  {
   "cell_type": "code",
   "execution_count": 11,
   "metadata": {},
   "outputs": [],
   "source": [
    "# drop null values from news title column\n",
    "df = df.drop(df[df['News_Title'].isnull()].index)"
   ]
  },
  {
   "cell_type": "code",
   "execution_count": 12,
   "metadata": {},
   "outputs": [
    {
     "data": {
      "text/plain": [
       "0"
      ]
     },
     "execution_count": 12,
     "metadata": {},
     "output_type": "execute_result"
    }
   ],
   "source": [
    "# Confirm that null rows is deleted.\n",
    "df['News_Title'].isnull().sum()"
   ]
  },
  {
   "cell_type": "code",
   "execution_count": 13,
   "metadata": {},
   "outputs": [
    {
     "data": {
      "text/plain": [
       "(1, 32198)"
      ]
     },
     "execution_count": 13,
     "metadata": {},
     "output_type": "execute_result"
    }
   ],
   "source": [
    "# check min and max len of text for news_title column\n",
    "min_max_title  = df['News_Title'].apply(len).min() , df['News_Title'].apply(len).max()\n",
    "min_max_title"
   ]
  },
  {
   "cell_type": "code",
   "execution_count": 14,
   "metadata": {},
   "outputs": [],
   "source": [
    "# filter data to get only titles greater than 15 char.\n",
    "df = df[df['News_Title'].str.len() >= 15]"
   ]
  },
  {
   "cell_type": "code",
   "execution_count": 15,
   "metadata": {},
   "outputs": [
    {
     "data": {
      "text/plain": [
       "(15, 32198)"
      ]
     },
     "execution_count": 15,
     "metadata": {},
     "output_type": "execute_result"
    }
   ],
   "source": [
    "# dupple check min and max len of text for news_title column after filteration. \n",
    "min_max_title  = df['News_Title'].apply(len).min() , df['News_Title'].apply(len).max()\n",
    "min_max_title"
   ]
  },
  {
   "cell_type": "code",
   "execution_count": 16,
   "metadata": {},
   "outputs": [],
   "source": [
    "# ingore any row in trusted_language is already detected as english source.\n",
    "df = df[df['Trusted_Language'] != 'en']"
   ]
  },
  {
   "cell_type": "code",
   "execution_count": 17,
   "metadata": {},
   "outputs": [],
   "source": [
    "# reset index\n",
    "df = df.reset_index()"
   ]
  },
  {
   "cell_type": "code",
   "execution_count": 18,
   "metadata": {},
   "outputs": [
    {
     "name": "stdout",
     "output_type": "stream",
     "text": [
      "283450\n"
     ]
    },
    {
     "data": {
      "text/html": [
       "<div>\n",
       "<style scoped>\n",
       "    .dataframe tbody tr th:only-of-type {\n",
       "        vertical-align: middle;\n",
       "    }\n",
       "\n",
       "    .dataframe tbody tr th {\n",
       "        vertical-align: top;\n",
       "    }\n",
       "\n",
       "    .dataframe thead th {\n",
       "        text-align: right;\n",
       "    }\n",
       "</style>\n",
       "<table border=\"1\" class=\"dataframe\">\n",
       "  <thead>\n",
       "    <tr style=\"text-align: right;\">\n",
       "      <th></th>\n",
       "      <th>index</th>\n",
       "      <th>Supplier_Name</th>\n",
       "      <th>News_Title</th>\n",
       "      <th>News_Link</th>\n",
       "      <th>News_Date</th>\n",
       "      <th>Description</th>\n",
       "      <th>Initial_Classification</th>\n",
       "      <th>Machine_Learning</th>\n",
       "      <th>Confidence</th>\n",
       "      <th>Trusted_Language</th>\n",
       "    </tr>\n",
       "  </thead>\n",
       "  <tbody>\n",
       "    <tr>\n",
       "      <th>0</th>\n",
       "      <td>26018</td>\n",
       "      <td>Finanz Informatik</td>\n",
       "      <td>Das neue FI-Magazin 4/2023 mit den Highlights ...</td>\n",
       "      <td>https://www.f-i.de/News/News-Presse/Aktuelles/...</td>\n",
       "      <td>20.12.2023 Aktuelles</td>\n",
       "      <td>NaN</td>\n",
       "      <td>No Classification Found</td>\n",
       "      <td>can't predict | other languages</td>\n",
       "      <td>100.0</td>\n",
       "      <td>de</td>\n",
       "    </tr>\n",
       "    <tr>\n",
       "      <th>1</th>\n",
       "      <td>26019</td>\n",
       "      <td>Finanz Informatik</td>\n",
       "      <td>Das war der Welcome Day im November 2023</td>\n",
       "      <td>https://www.f-i.de/News/News-Presse/Aktuelles/...</td>\n",
       "      <td>30.11.2023 Aktuelles</td>\n",
       "      <td>NaN</td>\n",
       "      <td>No Classification Found</td>\n",
       "      <td>can't predict | other languages</td>\n",
       "      <td>100.0</td>\n",
       "      <td>de</td>\n",
       "    </tr>\n",
       "    <tr>\n",
       "      <th>2</th>\n",
       "      <td>26020</td>\n",
       "      <td>Finanz Informatik</td>\n",
       "      <td>FI-Forum 2023 begeisterte die Besucherinnen un...</td>\n",
       "      <td>https://www.f-i.de/News/News-Presse/Aktuelles/...</td>\n",
       "      <td>27.11.2023 Aktuelles</td>\n",
       "      <td>NaN</td>\n",
       "      <td>No Classification Found</td>\n",
       "      <td>can't predict | other languages</td>\n",
       "      <td>100.0</td>\n",
       "      <td>de</td>\n",
       "    </tr>\n",
       "  </tbody>\n",
       "</table>\n",
       "</div>"
      ],
      "text/plain": [
       "   index      Supplier_Name  \\\n",
       "0  26018  Finanz Informatik   \n",
       "1  26019  Finanz Informatik   \n",
       "2  26020  Finanz Informatik   \n",
       "\n",
       "                                          News_Title  \\\n",
       "0  Das neue FI-Magazin 4/2023 mit den Highlights ...   \n",
       "1           Das war der Welcome Day im November 2023   \n",
       "2  FI-Forum 2023 begeisterte die Besucherinnen un...   \n",
       "\n",
       "                                           News_Link             News_Date  \\\n",
       "0  https://www.f-i.de/News/News-Presse/Aktuelles/...  20.12.2023 Aktuelles   \n",
       "1  https://www.f-i.de/News/News-Presse/Aktuelles/...  30.11.2023 Aktuelles   \n",
       "2  https://www.f-i.de/News/News-Presse/Aktuelles/...  27.11.2023 Aktuelles   \n",
       "\n",
       "  Description   Initial_Classification                 Machine_Learning  \\\n",
       "0         NaN  No Classification Found  can't predict | other languages   \n",
       "1         NaN  No Classification Found  can't predict | other languages   \n",
       "2         NaN  No Classification Found  can't predict | other languages   \n",
       "\n",
       "   Confidence Trusted_Language  \n",
       "0       100.0               de  \n",
       "1       100.0               de  \n",
       "2       100.0               de  "
      ]
     },
     "execution_count": 18,
     "metadata": {},
     "output_type": "execute_result"
    }
   ],
   "source": [
    "# check len of dataframe after filtering and preprocessing.\n",
    "print(len(df))\n",
    "df.head(3)"
   ]
  },
  {
   "cell_type": "code",
   "execution_count": 19,
   "metadata": {},
   "outputs": [],
   "source": [
    "# Save the cleaned DataFrame to an Excel file\n",
    "df.to_excel(r'../data/cleaned data/cleaned_data.xlsx', index=False, engine='openpyxl')"
   ]
  },
  {
   "cell_type": "markdown",
   "metadata": {},
   "source": [
    "# detect languages and Transle based on news title\n",
    "#### Load Fasttext model for language detection purposes."
   ]
  },
  {
   "cell_type": "code",
   "execution_count": 20,
   "metadata": {},
   "outputs": [],
   "source": [
    "\n",
    "# Model Location    \n",
    "model_loc = r\"..\\models\\fast_api_model\\lid.176.bin\"\n",
    "# Load model\n",
    "Language_detection_model = fasttext.load_model(model_loc)"
   ]
  },
  {
   "cell_type": "markdown",
   "metadata": {},
   "source": [
    "#### Function to return detected language and accuracy for detection ber text"
   ]
  },
  {
   "cell_type": "code",
   "execution_count": 21,
   "metadata": {},
   "outputs": [],
   "source": [
    "# Function to return detected language and confident accuracy using fasttext pre-trained model.\n",
    "def Detect_language_Accuracy(text , model_loc = model_loc,model = Language_detection_model):\n",
    "    # Prediction\n",
    "    model_predict = model.predict(text)\n",
    "    # Predicted language\n",
    "    language = model_predict[0][0].split(\"__\")[2]\n",
    "    # Predicted Accuracy\n",
    "    accuracy_value = model_predict[1][0] * 100\n",
    "    # Format Accuracy\n",
    "    if accuracy_value >= 100:\n",
    "        accuracy = f\"{accuracy_value:.0f}%\"\n",
    "    else:\n",
    "        accuracy = f\"{accuracy_value:.2f}%\"\n",
    "    # Return language and accuracy\n",
    "    return language, accuracy\n"
   ]
  },
  {
   "cell_type": "markdown",
   "metadata": {},
   "source": [
    "#### Function to return translated text based on hugging face model = \"Helsinki-NLP/opus-mt-mul-en\""
   ]
  },
  {
   "cell_type": "code",
   "execution_count": 22,
   "metadata": {},
   "outputs": [],
   "source": [
    "# Load the translation model and tokenizer\n",
    "model_name = \"Helsinki-NLP/opus-mt-mul-en\"\n",
    "tokenizer = MarianTokenizer.from_pretrained(model_name)\n",
    "model = MarianMTModel.from_pretrained(model_name)\n",
    "\n",
    "def translate_text(text, model=model, tokenizer=tokenizer):\n",
    "    tokens = tokenizer(text, return_tensors=\"pt\", truncation=True, padding=\"longest\")\n",
    "    translation = model.generate(**tokens)\n",
    "    translated_text = tokenizer.decode(translation[0], skip_special_tokens=True)\n",
    "    return translated_text"
   ]
  },
  {
   "cell_type": "markdown",
   "metadata": {},
   "source": [
    "#### Function to return text summarization"
   ]
  },
  {
   "cell_type": "code",
   "execution_count": 35,
   "metadata": {},
   "outputs": [],
   "source": [
    "summarizer = pipeline(\"summarization\", model=\"facebook/bart-large-cnn\")\n",
    "def Text_Summarization(text,model = summarizer):\n",
    "    summarized_text = model(text,min_length=30,max_length = 130)[0]['summary_text']\n",
    "    return summarized_text"
   ]
  },
  {
   "cell_type": "markdown",
   "metadata": {},
   "source": [
    "#### check flow on single row."
   ]
  },
  {
   "cell_type": "code",
   "execution_count": 29,
   "metadata": {},
   "outputs": [
    {
     "name": "stdout",
     "output_type": "stream",
     "text": [
      "detected_lang, Accuracy, Translated text: ja, 100%, News about the release of the \"PDF 2023\" (PDF)\n"
     ]
    }
   ],
   "source": [
    "# Single text to check detected language ,accuracy and translated text\n",
    "text = \"株式会社 大真空「統合報告書 2023」発行に関するお知らせ（PDF）\"\n",
    "detected , Accuracy = Detect_language_Accuracy(text)[0] , Detect_language_Accuracy(text)[1] \n",
    "translated_text = translate_text(text,model ,tokenizer)\n",
    "print(f\"detected_lang, Accuracy, Translated text: {detected}, {Accuracy}, {translated_text}\")"
   ]
  },
  {
   "cell_type": "code",
   "execution_count": null,
   "metadata": {},
   "outputs": [],
   "source": []
  },
  {
   "cell_type": "code",
   "execution_count": 36,
   "metadata": {},
   "outputs": [
    {
     "data": {
      "text/plain": [
       "131"
      ]
     },
     "execution_count": 36,
     "metadata": {},
     "output_type": "execute_result"
    }
   ],
   "source": [
    "Text = '''- Awesome..  But what about the least possible capaci-induc-tances?\n",
    "  Are there any limits on them towards the Plank length limit?)'''\n",
    "len(Text)"
   ]
  },
  {
   "cell_type": "code",
   "execution_count": 37,
   "metadata": {},
   "outputs": [
    {
     "name": "stderr",
     "output_type": "stream",
     "text": [
      "Your max_length is set to 130, but your input_length is only 36. Since this is a summarization task, where outputs shorter than the input are typically wanted, you might consider decreasing max_length manually, e.g. summarizer('...', max_length=18)\n"
     ]
    },
    {
     "data": {
      "text/plain": [
       "'\"What about the least possible capaci-induc-tances? Are there any limits on them towards the Plank length limit?\" \"I. - Awesome..  But what about the most possible capacI-Induc-Tances?\" \"Are there any Limits on Plank Lengths?\" \"Is there any limit on the Planking Length limit?\"\"Is there a cap on the length of the plank?\"'"
      ]
     },
     "execution_count": 37,
     "metadata": {},
     "output_type": "execute_result"
    }
   ],
   "source": [
    "summarized_txt = Text_Summarization(Text)\n",
    "summarized_txt\n"
   ]
  },
  {
   "cell_type": "code",
   "execution_count": 38,
   "metadata": {},
   "outputs": [
    {
     "data": {
      "text/plain": [
       "321"
      ]
     },
     "execution_count": 38,
     "metadata": {},
     "output_type": "execute_result"
    }
   ],
   "source": [
    "len(summarized_txt)\n"
   ]
  },
  {
   "cell_type": "code",
   "execution_count": 32,
   "metadata": {},
   "outputs": [],
   "source": [
    "# Read cleaned data\n",
    "df = pd.read_excel(r'../data/cleaned data/cleaned_data.xlsx')"
   ]
  },
  {
   "cell_type": "code",
   "execution_count": 25,
   "metadata": {},
   "outputs": [],
   "source": [
    "# Take a sample of 100 rows\n",
    "sample_df = df.sample(n=100)"
   ]
  },
  {
   "cell_type": "code",
   "execution_count": 26,
   "metadata": {},
   "outputs": [
    {
     "data": {
      "text/html": [
       "<div>\n",
       "<style scoped>\n",
       "    .dataframe tbody tr th:only-of-type {\n",
       "        vertical-align: middle;\n",
       "    }\n",
       "\n",
       "    .dataframe tbody tr th {\n",
       "        vertical-align: top;\n",
       "    }\n",
       "\n",
       "    .dataframe thead th {\n",
       "        text-align: right;\n",
       "    }\n",
       "</style>\n",
       "<table border=\"1\" class=\"dataframe\">\n",
       "  <thead>\n",
       "    <tr style=\"text-align: right;\">\n",
       "      <th></th>\n",
       "      <th>index</th>\n",
       "      <th>Supplier_Name</th>\n",
       "      <th>News_Title</th>\n",
       "      <th>News_Link</th>\n",
       "      <th>News_Date</th>\n",
       "      <th>Description</th>\n",
       "      <th>Initial_Classification</th>\n",
       "      <th>Machine_Learning</th>\n",
       "      <th>Confidence</th>\n",
       "      <th>Trusted_Language</th>\n",
       "    </tr>\n",
       "  </thead>\n",
       "  <tbody>\n",
       "    <tr>\n",
       "      <th>10356</th>\n",
       "      <td>43455</td>\n",
       "      <td>wts electronic components GmbH</td>\n",
       "      <td>PCIM Europa Nürnberg 2023</td>\n",
       "      <td>https://www.wts-electronic.de/news/pcim_europa...</td>\n",
       "      <td>Veröffentlicht am 23.03.2023</td>\n",
       "      <td>NaN</td>\n",
       "      <td>No Classification Found</td>\n",
       "      <td>can't predict | insufficient description</td>\n",
       "      <td>100.00</td>\n",
       "      <td>NaN</td>\n",
       "    </tr>\n",
       "    <tr>\n",
       "      <th>216131</th>\n",
       "      <td>500737</td>\n",
       "      <td>eeNews Europe</td>\n",
       "      <td>Digital twin boosts protection of vulnerable r...</td>\n",
       "      <td>https://www.eenewseurope.com/en/digital-twin-b...</td>\n",
       "      <td>24-Oct-23</td>\n",
       "      <td>NaN</td>\n",
       "      <td>No Classification Found</td>\n",
       "      <td>no_events</td>\n",
       "      <td>82.65</td>\n",
       "      <td>NaN</td>\n",
       "    </tr>\n",
       "    <tr>\n",
       "      <th>114078</th>\n",
       "      <td>282758</td>\n",
       "      <td>The Hungarian National Association of Radio Di...</td>\n",
       "      <td>Australia - Fire</td>\n",
       "      <td>https://rsoe-edis.org/eventList/details/511761/0</td>\n",
       "      <td>10/29/2023 5:10</td>\n",
       "      <td>NaN</td>\n",
       "      <td>Fires</td>\n",
       "      <td>can't predict | insufficient description</td>\n",
       "      <td>100.00</td>\n",
       "      <td>NaN</td>\n",
       "    </tr>\n",
       "  </tbody>\n",
       "</table>\n",
       "</div>"
      ],
      "text/plain": [
       "         index                                      Supplier_Name  \\\n",
       "10356    43455                     wts electronic components GmbH   \n",
       "216131  500737                                      eeNews Europe   \n",
       "114078  282758  The Hungarian National Association of Radio Di...   \n",
       "\n",
       "                                               News_Title  \\\n",
       "10356                           PCIM Europa Nürnberg 2023   \n",
       "216131  Digital twin boosts protection of vulnerable r...   \n",
       "114078                                   Australia - Fire   \n",
       "\n",
       "                                                News_Link  \\\n",
       "10356   https://www.wts-electronic.de/news/pcim_europa...   \n",
       "216131  https://www.eenewseurope.com/en/digital-twin-b...   \n",
       "114078   https://rsoe-edis.org/eventList/details/511761/0   \n",
       "\n",
       "                           News_Date Description   Initial_Classification  \\\n",
       "10356   Veröffentlicht am 23.03.2023         NaN  No Classification Found   \n",
       "216131                     24-Oct-23         NaN  No Classification Found   \n",
       "114078               10/29/2023 5:10         NaN                    Fires   \n",
       "\n",
       "                                Machine_Learning  Confidence Trusted_Language  \n",
       "10356   can't predict | insufficient description      100.00              NaN  \n",
       "216131                                 no_events       82.65              NaN  \n",
       "114078  can't predict | insufficient description      100.00              NaN  "
      ]
     },
     "execution_count": 26,
     "metadata": {},
     "output_type": "execute_result"
    }
   ],
   "source": [
    "sample_df.head(3)"
   ]
  },
  {
   "cell_type": "code",
   "execution_count": 33,
   "metadata": {},
   "outputs": [
    {
     "data": {
      "application/vnd.jupyter.widget-view+json": {
       "model_id": "d7cdae3f10fe4754aaeacd517d8cf77e",
       "version_major": 2,
       "version_minor": 0
      },
      "text/plain": [
       "Pandas Apply:   0%|          | 0/36 [00:00<?, ?it/s]"
      ]
     },
     "metadata": {},
     "output_type": "display_data"
    }
   ],
   "source": [
    "# Apply the function to the 'News_Title' column\n",
    "df['Detected_Language'], df['Accuracy'] = zip(*df['News_Title'].swifter.apply(Detect_language_Accuracy))"
   ]
  },
  {
   "cell_type": "code",
   "execution_count": 34,
   "metadata": {},
   "outputs": [
    {
     "data": {
      "application/vnd.jupyter.widget-view+json": {
       "model_id": "17a487a5c1624968ab3832fb16da24c1",
       "version_major": 2,
       "version_minor": 0
      },
      "text/plain": [
       "VBox(children=(HBox(children=(IntProgress(value=0, description='0.00%', max=4), Label(value='0 / 4'))), HBox(c…"
      ]
     },
     "metadata": {},
     "output_type": "display_data"
    }
   ],
   "source": [
    "# Applying the translation function\n",
    "df[\"English Translation\"] = df[\"News_Title\"].parallel_apply(translate_text)"
   ]
  },
  {
   "cell_type": "code",
   "execution_count": 39,
   "metadata": {},
   "outputs": [
    {
     "data": {
      "application/vnd.jupyter.widget-view+json": {
       "model_id": "dc543795c45b474e9f0d8639838521da",
       "version_major": 2,
       "version_minor": 0
      },
      "text/plain": [
       "VBox(children=(HBox(children=(IntProgress(value=0, description='0.00%', max=4), Label(value='0 / 4'))), HBox(c…"
      ]
     },
     "metadata": {},
     "output_type": "display_data"
    }
   ],
   "source": [
    "# Applying the translation function\n",
    "df[\"Summarized text\"] = df[\"Description\"].parallel_apply(Text_Summarization)"
   ]
  },
  {
   "cell_type": "code",
   "execution_count": null,
   "metadata": {},
   "outputs": [
    {
     "data": {
      "text/html": [
       "<div>\n",
       "<style scoped>\n",
       "    .dataframe tbody tr th:only-of-type {\n",
       "        vertical-align: middle;\n",
       "    }\n",
       "\n",
       "    .dataframe tbody tr th {\n",
       "        vertical-align: top;\n",
       "    }\n",
       "\n",
       "    .dataframe thead th {\n",
       "        text-align: right;\n",
       "    }\n",
       "</style>\n",
       "<table border=\"1\" class=\"dataframe\">\n",
       "  <thead>\n",
       "    <tr style=\"text-align: right;\">\n",
       "      <th></th>\n",
       "      <th>index</th>\n",
       "      <th>Supplier_Name</th>\n",
       "      <th>News_Title</th>\n",
       "      <th>News_Link</th>\n",
       "      <th>News_Date</th>\n",
       "      <th>Description</th>\n",
       "      <th>Initial_Classification</th>\n",
       "      <th>Machine_Learning</th>\n",
       "      <th>Confidence</th>\n",
       "      <th>Trusted_Language</th>\n",
       "      <th>Detected_Language</th>\n",
       "      <th>Accuracy</th>\n",
       "      <th>English Translation</th>\n",
       "    </tr>\n",
       "  </thead>\n",
       "  <tbody>\n",
       "    <tr>\n",
       "      <th>140283</th>\n",
       "      <td>357999</td>\n",
       "      <td>The Hungarian National Association of Radio Di...</td>\n",
       "      <td>Congo DRC - Fire</td>\n",
       "      <td>https://rsoe-edis.org/eventList/details/413710/0</td>\n",
       "      <td>8/5/2023 12:49</td>\n",
       "      <td>NaN</td>\n",
       "      <td>Fires</td>\n",
       "      <td>can't predict | insufficient description</td>\n",
       "      <td>100.00</td>\n",
       "      <td>NaN</td>\n",
       "      <td>es</td>\n",
       "      <td>28.33%</td>\n",
       "      <td>Congo DRC - Fire</td>\n",
       "    </tr>\n",
       "    <tr>\n",
       "      <th>260789</th>\n",
       "      <td>658528</td>\n",
       "      <td>Vilros</td>\n",
       "      <td>How To Overclock Raspberry Pi 4</td>\n",
       "      <td>https://vilros.com/blogs/news/how-to-overclock...</td>\n",
       "      <td>13-Sep-21</td>\n",
       "      <td>NaN</td>\n",
       "      <td>No Classification Found</td>\n",
       "      <td>can't predict | insufficient description</td>\n",
       "      <td>100.00</td>\n",
       "      <td>NaN</td>\n",
       "      <td>en</td>\n",
       "      <td>45.45%</td>\n",
       "      <td>How to Overclock Raspberry Pi 4</td>\n",
       "    </tr>\n",
       "    <tr>\n",
       "      <th>165042</th>\n",
       "      <td>415178</td>\n",
       "      <td>Aerco</td>\n",
       "      <td>Rationalisation of TE products affect Raychem ...</td>\n",
       "      <td>https://www.aerco.co.uk/rationalisation-of-te-...</td>\n",
       "      <td>NaN</td>\n",
       "      <td>NaN</td>\n",
       "      <td>No Classification Found</td>\n",
       "      <td>no_events</td>\n",
       "      <td>93.46</td>\n",
       "      <td>NaN</td>\n",
       "      <td>en</td>\n",
       "      <td>62.24%</td>\n",
       "      <td>rationalisation of TE products affect Raychem ...</td>\n",
       "    </tr>\n",
       "  </tbody>\n",
       "</table>\n",
       "</div>"
      ],
      "text/plain": [
       "         index                                      Supplier_Name  \\\n",
       "140283  357999  The Hungarian National Association of Radio Di...   \n",
       "260789  658528                                             Vilros   \n",
       "165042  415178                                              Aerco   \n",
       "\n",
       "                                               News_Title  \\\n",
       "140283                                   Congo DRC - Fire   \n",
       "260789                    How To Overclock Raspberry Pi 4   \n",
       "165042  Rationalisation of TE products affect Raychem ...   \n",
       "\n",
       "                                                News_Link       News_Date  \\\n",
       "140283   https://rsoe-edis.org/eventList/details/413710/0  8/5/2023 12:49   \n",
       "260789  https://vilros.com/blogs/news/how-to-overclock...       13-Sep-21   \n",
       "165042  https://www.aerco.co.uk/rationalisation-of-te-...             NaN   \n",
       "\n",
       "       Description   Initial_Classification  \\\n",
       "140283         NaN                    Fires   \n",
       "260789         NaN  No Classification Found   \n",
       "165042         NaN  No Classification Found   \n",
       "\n",
       "                                Machine_Learning  Confidence Trusted_Language  \\\n",
       "140283  can't predict | insufficient description      100.00              NaN   \n",
       "260789  can't predict | insufficient description      100.00              NaN   \n",
       "165042                                 no_events       93.46              NaN   \n",
       "\n",
       "       Detected_Language Accuracy  \\\n",
       "140283                es   28.33%   \n",
       "260789                en   45.45%   \n",
       "165042                en   62.24%   \n",
       "\n",
       "                                      English Translation  \n",
       "140283                                   Congo DRC - Fire  \n",
       "260789                    How to Overclock Raspberry Pi 4  \n",
       "165042  rationalisation of TE products affect Raychem ...  "
      ]
     },
     "execution_count": 34,
     "metadata": {},
     "output_type": "execute_result"
    }
   ],
   "source": [
    "sample_df.head(3)"
   ]
  },
  {
   "cell_type": "code",
   "execution_count": 37,
   "metadata": {},
   "outputs": [],
   "source": [
    "# Save the processed DataFrame\n",
    "df.to_excel(r'..\\data\\output\\fulldata.xlsx', index=False)"
   ]
  },
  {
   "cell_type": "code",
   "execution_count": 30,
   "metadata": {},
   "outputs": [
    {
     "data": {
      "text/html": [
       "<div>\n",
       "<style scoped>\n",
       "    .dataframe tbody tr th:only-of-type {\n",
       "        vertical-align: middle;\n",
       "    }\n",
       "\n",
       "    .dataframe tbody tr th {\n",
       "        vertical-align: top;\n",
       "    }\n",
       "\n",
       "    .dataframe thead th {\n",
       "        text-align: right;\n",
       "    }\n",
       "</style>\n",
       "<table border=\"1\" class=\"dataframe\">\n",
       "  <thead>\n",
       "    <tr style=\"text-align: right;\">\n",
       "      <th></th>\n",
       "      <th>index</th>\n",
       "      <th>Supplier_Name</th>\n",
       "      <th>News_Title</th>\n",
       "      <th>News_Link</th>\n",
       "      <th>News_Date</th>\n",
       "      <th>Description</th>\n",
       "      <th>Initial_Classification</th>\n",
       "      <th>Machine_Learning</th>\n",
       "      <th>Confidence</th>\n",
       "      <th>Trusted_Language</th>\n",
       "      <th>Detected_Language</th>\n",
       "      <th>Accuracy</th>\n",
       "      <th>English Translation</th>\n",
       "    </tr>\n",
       "  </thead>\n",
       "  <tbody>\n",
       "    <tr>\n",
       "      <th>0</th>\n",
       "      <td>30620</td>\n",
       "      <td>Business Wire</td>\n",
       "      <td>REPLY: Storm Reply lanceert op RAG gebaseerde ...</td>\n",
       "      <td>https://www.businesswire.com/news/home/2023122...</td>\n",
       "      <td>12/21/2023 - 12:36 PM</td>\n",
       "      <td>NaN</td>\n",
       "      <td>No Classification Found</td>\n",
       "      <td>can't predict | other languages</td>\n",
       "      <td>100</td>\n",
       "      <td>nl</td>\n",
       "      <td>nl</td>\n",
       "      <td>88.86%</td>\n",
       "      <td>REPLY: Storm Reply launchs a RAG based AI chat...</td>\n",
       "    </tr>\n",
       "    <tr>\n",
       "      <th>1</th>\n",
       "      <td>30621</td>\n",
       "      <td>Business Wire</td>\n",
       "      <td>Samenvatting: Exscientia kondigt uitbreiding a...</td>\n",
       "      <td>https://www.businesswire.com/news/home/2023122...</td>\n",
       "      <td>12/21/2023 - 12:27 PM</td>\n",
       "      <td>NaN</td>\n",
       "      <td>No Classification Found</td>\n",
       "      <td>can't predict | other languages</td>\n",
       "      <td>100</td>\n",
       "      <td>nl</td>\n",
       "      <td>nl</td>\n",
       "      <td>93.43%</td>\n",
       "      <td>Summary: Excientia announces expansion of its ...</td>\n",
       "    </tr>\n",
       "    <tr>\n",
       "      <th>2</th>\n",
       "      <td>30622</td>\n",
       "      <td>Business Wire</td>\n",
       "      <td>Samenvatting: Biocytogen en Hansoh Pharma kond...</td>\n",
       "      <td>https://www.businesswire.com/news/home/2023010...</td>\n",
       "      <td>01/03/2023 - 04:21 PM</td>\n",
       "      <td>NaN</td>\n",
       "      <td>No Classification Found</td>\n",
       "      <td>can't predict | other languages</td>\n",
       "      <td>100</td>\n",
       "      <td>nl</td>\n",
       "      <td>nl</td>\n",
       "      <td>99.45%</td>\n",
       "      <td>Summary: Biocytogens and Hansoh Pharma announc...</td>\n",
       "    </tr>\n",
       "  </tbody>\n",
       "</table>\n",
       "</div>"
      ],
      "text/plain": [
       "   index  Supplier_Name                                         News_Title  \\\n",
       "0  30620  Business Wire  REPLY: Storm Reply lanceert op RAG gebaseerde ...   \n",
       "1  30621  Business Wire  Samenvatting: Exscientia kondigt uitbreiding a...   \n",
       "2  30622  Business Wire  Samenvatting: Biocytogen en Hansoh Pharma kond...   \n",
       "\n",
       "                                           News_Link              News_Date  \\\n",
       "0  https://www.businesswire.com/news/home/2023122...  12/21/2023 - 12:36 PM   \n",
       "1  https://www.businesswire.com/news/home/2023122...  12/21/2023 - 12:27 PM   \n",
       "2  https://www.businesswire.com/news/home/2023010...  01/03/2023 - 04:21 PM   \n",
       "\n",
       "   Description   Initial_Classification                 Machine_Learning  \\\n",
       "0          NaN  No Classification Found  can't predict | other languages   \n",
       "1          NaN  No Classification Found  can't predict | other languages   \n",
       "2          NaN  No Classification Found  can't predict | other languages   \n",
       "\n",
       "   Confidence Trusted_Language Detected_Language Accuracy  \\\n",
       "0         100               nl                nl   88.86%   \n",
       "1         100               nl                nl   93.43%   \n",
       "2         100               nl                nl   99.45%   \n",
       "\n",
       "                                 English Translation  \n",
       "0  REPLY: Storm Reply launchs a RAG based AI chat...  \n",
       "1  Summary: Excientia announces expansion of its ...  \n",
       "2  Summary: Biocytogens and Hansoh Pharma announc...  "
      ]
     },
     "execution_count": 30,
     "metadata": {},
     "output_type": "execute_result"
    }
   ],
   "source": [
    "df.head(3)"
   ]
  },
  {
   "cell_type": "code",
   "execution_count": null,
   "metadata": {},
   "outputs": [],
   "source": []
  },
  {
   "cell_type": "code",
   "execution_count": 77,
   "metadata": {},
   "outputs": [],
   "source": [
    "import pandas as pd\n",
    "import numpy as np\n",
    "import fasttext\n",
    "from transformers import MarianMTModel, MarianTokenizer\n",
    "import swifter\n",
    "import warnings\n",
    "warnings.filterwarnings('ignore')\n",
    "from fastapi import FastAPI, UploadFile, File\n",
    "import uvicorn\n",
    "from pydantic import BaseModel\n",
    "from typing import List\n",
    "import asyncio\n",
    "\n",
    "class LanguageProcessor:\n",
    "    def __init__(self, data_path, model_loc, translation_model_name):\n",
    "        self.data_path = data_path\n",
    "        self.model_loc = model_loc\n",
    "        self.translation_model_name = translation_model_name\n",
    "        self.df = None\n",
    "        self.language_detection_model = None\n",
    "        self.translation_model = None\n",
    "        self.tokenizer = None\n",
    "        self._load_data()\n",
    "        self._load_models()\n",
    "\n",
    "    def _load_data(self):\n",
    "        self.df = pd.read_excel(self.data_path)\n",
    "\n",
    "    def _load_models(self):\n",
    "        # Load the language detection model\n",
    "        self.language_detection_model = fasttext.load_model(self.model_loc)\n",
    "        # Load the translation model and tokenizer\n",
    "        self.tokenizer = MarianTokenizer.from_pretrained(self.translation_model_name)\n",
    "        self.translation_model = MarianMTModel.from_pretrained(self.translation_model_name)\n",
    "        \n",
    "    def detect_language_and_accuracy(self, text):\n",
    "        # Prediction\n",
    "        model_predict = self.language_detection_model.predict(text)\n",
    "        # Predicted language\n",
    "        language = model_predict[0][0].split(\"__\")[2]\n",
    "        # Predicted Accuracy\n",
    "        accuracy_value = model_predict[1][0] * 100\n",
    "        # Format Accuracy\n",
    "        if accuracy_value >= 100:\n",
    "            accuracy = f\"{accuracy_value:.0f}%\"\n",
    "        else:\n",
    "            accuracy = f\"{accuracy_value:.2f}%\"\n",
    "        # Return language and accuracy\n",
    "        return language, accuracy\n",
    "\n",
    "    def translate_text(self, text):\n",
    "        tokens = self.tokenizer(text, return_tensors=\"pt\", truncation=True, padding=\"longest\")\n",
    "        translation = self.translation_model.generate(**tokens)\n",
    "        translated_text = self.tokenizer.decode(translation[0], skip_special_tokens=True)\n",
    "        return translated_text\n",
    "\n",
    "    def process_data(self):\n",
    "        # Apply the language detection function to the 'News_Title' column using swifter\n",
    "        self.df['Detected_Language'], self.df['Accuracy'] = zip(*self.df['News_Title'].swifter.apply(self.detect_language_and_accuracy))\n",
    "        # Apply the translation function to the 'News_Title' column using swifter\n",
    "        self.df[\"English Translation\"] = self.df[\"News_Title\"].swifter.apply(lambda x: self.translate_text(x))\n",
    "\n",
    "    def get_dataframe(self):\n",
    "        return self.df\n",
    "\n",
    "# Initialize FastAPI app\n",
    "app = FastAPI()\n",
    "\n",
    "# Initialize LanguageProcessor instance\n",
    "data_path = \"cleaned_data.xlsx\"\n",
    "model_loc = r\"C:\\Users\\145568\\Downloads\\Mywork\\Analysis\\Projects\\Machine & Deep Learning\\Event rejion translation and sumarrization\\lid.176.bin\"\n",
    "translation_model_name = \"Helsinki-NLP/opus-mt-mul-en\"\n",
    "processor = LanguageProcessor(data_path, model_loc, translation_model_name)\n",
    "\n",
    "# Define Pydantic models\n",
    "class TextItem(BaseModel):\n",
    "    text: str\n",
    "\n",
    "class DetectionResponse(BaseModel):\n",
    "    language: str\n",
    "    accuracy: str\n",
    "\n",
    "class TranslationResponse(BaseModel):\n",
    "    translation: str\n",
    "\n",
    "# Define routes\n",
    "@app.post(\"/detect_language\", response_model=DetectionResponse)\n",
    "async def detect_language(item: TextItem):\n",
    "    loop = asyncio.get_event_loop()\n",
    "    language, accuracy = await loop.run_in_executor(None, processor.detect_language_and_accuracy, item.text)\n",
    "    return DetectionResponse(language=language, accuracy=accuracy)\n",
    "\n",
    "@app.post(\"/translate\", response_model=TranslationResponse)\n",
    "async def translate_text(item: TextItem):\n",
    "    loop = asyncio.get_event_loop()\n",
    "    translation = await loop.run_in_executor(None, processor.translate_text, item.text)\n",
    "    return TranslationResponse(translation=translation)\n",
    "\n",
    "@app.post(\"/upload_data/\")\n",
    "async def upload_data(file: UploadFile = File(...)):\n",
    "    # Save the uploaded file\n",
    "    file_location = f\"uploaded_{file.filename}\"\n",
    "    with open(file_location, \"wb+\") as file_object:\n",
    "        file_object.write(file.file.read())\n",
    "\n",
    "    # Update the processor with the new file\n",
    "    processor.data_path = file_location\n",
    "    processor._load_data()\n",
    "    processor.process_data()\n",
    "\n",
    "    return {\"info\": \"file uploaded successfully\", \"filename\": file.filename}\n",
    "\n",
    "@app.get(\"/get_processed_data\")\n",
    "async def get_processed_data():\n",
    "    df = processor.get_dataframe()\n",
    "    return df.to_dict(orient='records')\n",
    "\n",
    "# Run the app with Uvicorn\n",
    "if __name__ == \"__main__\":\n",
    "    import uvicorn\n",
    "    uvicorn.run(app, host=\"0.0.0.0\", port=8000)\n"
   ]
  },
  {
   "cell_type": "code",
   "execution_count": null,
   "metadata": {},
   "outputs": [],
   "source": []
  },
  {
   "cell_type": "code",
   "execution_count": null,
   "metadata": {},
   "outputs": [],
   "source": []
  },
  {
   "cell_type": "code",
   "execution_count": null,
   "metadata": {},
   "outputs": [],
   "source": []
  },
  {
   "cell_type": "code",
   "execution_count": null,
   "metadata": {},
   "outputs": [],
   "source": []
  },
  {
   "cell_type": "code",
   "execution_count": null,
   "metadata": {},
   "outputs": [],
   "source": []
  },
  {
   "cell_type": "code",
   "execution_count": null,
   "metadata": {},
   "outputs": [],
   "source": []
  },
  {
   "cell_type": "code",
   "execution_count": null,
   "metadata": {},
   "outputs": [],
   "source": []
  }
 ],
 "metadata": {
  "kernelspec": {
   "display_name": "ML",
   "language": "python",
   "name": "python3"
  },
  "language_info": {
   "codemirror_mode": {
    "name": "ipython",
    "version": 3
   },
   "file_extension": ".py",
   "mimetype": "text/x-python",
   "name": "python",
   "nbconvert_exporter": "python",
   "pygments_lexer": "ipython3",
   "version": "3.11.5"
  }
 },
 "nbformat": 4,
 "nbformat_minor": 2
}
